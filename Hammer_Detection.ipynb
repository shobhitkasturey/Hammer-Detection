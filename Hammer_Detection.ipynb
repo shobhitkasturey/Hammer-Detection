{
 "cells": [
  {
   "cell_type": "code",
   "execution_count": 1,
   "id": "dec99358",
   "metadata": {},
   "outputs": [
    {
     "name": "stdout",
     "output_type": "stream",
     "text": [
      "Requirement already satisfied: pandas in w:\\quant\\pythonenv\\lib\\site-packages (2.2.2)\n",
      "Requirement already satisfied: numpy>=1.22.4 in w:\\quant\\pythonenv\\lib\\site-packages (from pandas) (1.26.4)\n",
      "Requirement already satisfied: python-dateutil>=2.8.2 in w:\\quant\\pythonenv\\lib\\site-packages (from pandas) (2.9.0.post0)\n",
      "Requirement already satisfied: pytz>=2020.1 in w:\\quant\\pythonenv\\lib\\site-packages (from pandas) (2024.1)\n",
      "Requirement already satisfied: tzdata>=2022.7 in w:\\quant\\pythonenv\\lib\\site-packages (from pandas) (2024.1)\n",
      "Requirement already satisfied: six>=1.5 in w:\\quant\\pythonenv\\lib\\site-packages (from python-dateutil>=2.8.2->pandas) (1.16.0)\n",
      "Note: you may need to restart the kernel to use updated packages.\n"
     ]
    }
   ],
   "source": [
    "pip install pandas\n"
   ]
  },
  {
   "cell_type": "code",
   "execution_count": 9,
   "id": "e89f380d",
   "metadata": {
    "scrolled": false
   },
   "outputs": [
    {
     "name": "stdout",
     "output_type": "stream",
     "text": [
      "    Time of Candlesticks    Open    High     Low   Close   Volume       OI  \\\n",
      "40                 10:01  102.75  104.00   88.90   99.95  1524195  5031660   \n",
      "51                 10:12   95.95   97.15   90.00   94.50   853395  5620275   \n",
      "65                 10:26   59.55   59.55   48.10   56.15  2500380  4495875   \n",
      "110                11:11  114.80  118.75  107.20  118.00   546705  3824055   \n",
      "185                12:27  117.40  117.45  111.95  116.30   389415  3583755   \n",
      "\n",
      "     Hammer  \n",
      "40     True  \n",
      "51     True  \n",
      "65     True  \n",
      "110    True  \n",
      "185    True  \n"
     ]
    }
   ],
   "source": [
    "import pandas as pd\n",
    "\n",
    "csv_file = 'candlesticks.csv'\n",
    "df = pd.read_csv(csv_file)\n",
    "\n",
    "def is_hammer(row):\n",
    "    body = abs(row['Close'] - row['Open'])\n",
    "    lower_shadow = abs(min(row['Open'], row['Close']) - row['Low'])\n",
    "    upper_shadow = abs(max(row['Open'], row['Close']) - row['High'])\n",
    "    \n",
    "    is_hammer = lower_shadow >= 2 * body and upper_shadow <= body\n",
    "    return is_hammer\n",
    "\n",
    "df['Hammer'] = df.apply(is_hammer, axis =1)\n",
    "\n",
    "hammers = df[df['Hammer']]\n",
    "\n",
    "hammers.to_csv('hammers.csv', index=False)\n",
    "\n",
    "print(hammers.head())"
   ]
  },
  {
   "cell_type": "code",
   "execution_count": null,
   "id": "b95cabcb",
   "metadata": {},
   "outputs": [],
   "source": []
  }
 ],
 "metadata": {
  "kernelspec": {
   "display_name": "Python (Quantkernel)",
   "language": "python",
   "name": "quantkernel"
  },
  "language_info": {
   "codemirror_mode": {
    "name": "ipython",
    "version": 3
   },
   "file_extension": ".py",
   "mimetype": "text/x-python",
   "name": "python",
   "nbconvert_exporter": "python",
   "pygments_lexer": "ipython3",
   "version": "3.10.14"
  }
 },
 "nbformat": 4,
 "nbformat_minor": 5
}
